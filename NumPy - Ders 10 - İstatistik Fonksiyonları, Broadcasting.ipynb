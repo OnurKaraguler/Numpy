{
 "cells": [
  {
   "cell_type": "code",
   "execution_count": 1,
   "metadata": {},
   "outputs": [],
   "source": [
    "import numpy as np"
   ]
  },
  {
   "cell_type": "code",
   "execution_count": 2,
   "metadata": {},
   "outputs": [
    {
     "data": {
      "text/plain": [
       "array([1, 1, 9, 8, 5, 7, 6, 1])"
      ]
     },
     "execution_count": 2,
     "metadata": {},
     "output_type": "execute_result"
    }
   ],
   "source": [
    "x = np.random.randint(1,10, size=(8,))\n",
    "x"
   ]
  },
  {
   "cell_type": "code",
   "execution_count": 4,
   "metadata": {},
   "outputs": [
    {
     "name": "stdout",
     "output_type": "stream",
     "text": [
      "4.75\n",
      "5.5\n",
      "3.112474899497183\n"
     ]
    }
   ],
   "source": [
    "print(x.mean())\n",
    "print(np.median(x))\n",
    "print(x.std())"
   ]
  },
  {
   "cell_type": "code",
   "execution_count": 5,
   "metadata": {},
   "outputs": [
    {
     "data": {
      "text/plain": [
       "array([[5, 4, 7],\n",
       "       [4, 6, 1],\n",
       "       [6, 8, 6],\n",
       "       [7, 1, 3]])"
      ]
     },
     "execution_count": 5,
     "metadata": {},
     "output_type": "execute_result"
    }
   ],
   "source": [
    "y = np.random.randint(1,10, size=(4,3))\n",
    "y"
   ]
  },
  {
   "cell_type": "code",
   "execution_count": 6,
   "metadata": {},
   "outputs": [
    {
     "name": "stdout",
     "output_type": "stream",
     "text": [
      "[5.5  4.75 4.25]\n",
      "[5. 4. 6. 3.]\n",
      "3.112474899497183\n"
     ]
    }
   ],
   "source": [
    "print(y.mean(axis=0))\n",
    "print(np.median(y, axis=1))\n",
    "print(x.std(axis=0))"
   ]
  },
  {
   "cell_type": "code",
   "execution_count": null,
   "metadata": {},
   "outputs": [],
   "source": []
  },
  {
   "cell_type": "code",
   "execution_count": 7,
   "metadata": {},
   "outputs": [
    {
     "name": "stdout",
     "output_type": "stream",
     "text": [
      "[[9 7]\n",
      " [4 6]\n",
      " [4 1]]\n",
      "[[3 1]\n",
      " [1 9]\n",
      " [9 2]]\n",
      "[[12  8]\n",
      " [ 5 15]\n",
      " [13  3]]\n"
     ]
    }
   ],
   "source": [
    "x = np.random.randint(1,10, size=(3,2))\n",
    "print(x)\n",
    "y = np.random.randint(1,10, size=(3,2))\n",
    "print(y)\n",
    "print(x + y)"
   ]
  },
  {
   "cell_type": "markdown",
   "metadata": {},
   "source": [
    "<h1 style=\"color:red;\">Broadcasting</h1>"
   ]
  },
  {
   "cell_type": "code",
   "execution_count": 10,
   "metadata": {},
   "outputs": [
    {
     "name": "stdout",
     "output_type": "stream",
     "text": [
      "[9]\n",
      "======================\n",
      "[[5 8]\n",
      " [6 8]\n",
      " [9 7]]\n",
      "======================\n",
      "[[14 17]\n",
      " [15 17]\n",
      " [18 16]]\n"
     ]
    }
   ],
   "source": [
    "x = np.random.randint(1,10, size=(1,))\n",
    "print(x)\n",
    "print('======================')\n",
    "y = np.random.randint(1,10, size=(3,2))\n",
    "print(y)\n",
    "print('======================')\n",
    "print(x + y)"
   ]
  },
  {
   "cell_type": "code",
   "execution_count": 11,
   "metadata": {},
   "outputs": [
    {
     "name": "stdout",
     "output_type": "stream",
     "text": [
      "[5 3]\n",
      "======================\n",
      "[[6 9]\n",
      " [7 8]\n",
      " [7 4]]\n",
      "======================\n",
      "[[11 12]\n",
      " [12 11]\n",
      " [12  7]]\n"
     ]
    }
   ],
   "source": [
    "x = np.random.randint(1,10, size=(2,))\n",
    "print(x)\n",
    "print('======================')\n",
    "y = np.random.randint(1,10, size=(3,2))\n",
    "print(y)\n",
    "print('======================')\n",
    "print(x + y)"
   ]
  },
  {
   "cell_type": "code",
   "execution_count": 12,
   "metadata": {},
   "outputs": [
    {
     "name": "stdout",
     "output_type": "stream",
     "text": [
      "[8 9 8]\n",
      "======================\n",
      "[[1 1]\n",
      " [4 1]\n",
      " [9 4]]\n",
      "======================\n"
     ]
    },
    {
     "ename": "ValueError",
     "evalue": "operands could not be broadcast together with shapes (3,) (3,2) ",
     "output_type": "error",
     "traceback": [
      "\u001b[1;31m---------------------------------------------------------------------------\u001b[0m",
      "\u001b[1;31mValueError\u001b[0m                                Traceback (most recent call last)",
      "\u001b[1;32m<ipython-input-12-10864c7d3add>\u001b[0m in \u001b[0;36m<module>\u001b[1;34m\u001b[0m\n\u001b[0;32m      5\u001b[0m \u001b[0mprint\u001b[0m\u001b[1;33m(\u001b[0m\u001b[0my\u001b[0m\u001b[1;33m)\u001b[0m\u001b[1;33m\u001b[0m\u001b[1;33m\u001b[0m\u001b[0m\n\u001b[0;32m      6\u001b[0m \u001b[0mprint\u001b[0m\u001b[1;33m(\u001b[0m\u001b[1;34m'======================'\u001b[0m\u001b[1;33m)\u001b[0m\u001b[1;33m\u001b[0m\u001b[1;33m\u001b[0m\u001b[0m\n\u001b[1;32m----> 7\u001b[1;33m \u001b[0mprint\u001b[0m\u001b[1;33m(\u001b[0m\u001b[0mx\u001b[0m \u001b[1;33m+\u001b[0m \u001b[0my\u001b[0m\u001b[1;33m)\u001b[0m\u001b[1;33m\u001b[0m\u001b[1;33m\u001b[0m\u001b[0m\n\u001b[0m",
      "\u001b[1;31mValueError\u001b[0m: operands could not be broadcast together with shapes (3,) (3,2) "
     ]
    }
   ],
   "source": [
    "x = np.random.randint(1,10, size=(3,))\n",
    "print(x)\n",
    "print('======================')\n",
    "y = np.random.randint(1,10, size=(3,2))\n",
    "print(y)\n",
    "print('======================')\n",
    "print(x + y)"
   ]
  },
  {
   "cell_type": "code",
   "execution_count": 14,
   "metadata": {},
   "outputs": [
    {
     "name": "stdout",
     "output_type": "stream",
     "text": [
      "[[8 8 6]]\n",
      "======================\n",
      "[[1]\n",
      " [8]\n",
      " [5]]\n",
      "======================\n",
      "[[ 9  9  7]\n",
      " [16 16 14]\n",
      " [13 13 11]]\n"
     ]
    }
   ],
   "source": [
    "x = np.random.randint(1,10, size=(1,3))\n",
    "print(x)\n",
    "print('======================')\n",
    "y = np.random.randint(1,10, size=(3,1))\n",
    "print(y)\n",
    "print('======================')\n",
    "print(x + y)"
   ]
  },
  {
   "cell_type": "code",
   "execution_count": null,
   "metadata": {},
   "outputs": [],
   "source": []
  }
 ],
 "metadata": {
  "kernelspec": {
   "display_name": "Python 3.7.9 64-bit ('tensorflow': conda)",
   "language": "python",
   "name": "python37964bittensorflowconda91f07e4df9ed4eceb230f9e016055381"
  },
  "language_info": {
   "codemirror_mode": {
    "name": "ipython",
    "version": 3
   },
   "file_extension": ".py",
   "mimetype": "text/x-python",
   "name": "python",
   "nbconvert_exporter": "python",
   "pygments_lexer": "ipython3",
   "version": "3.7.9"
  }
 },
 "nbformat": 4,
 "nbformat_minor": 4
}

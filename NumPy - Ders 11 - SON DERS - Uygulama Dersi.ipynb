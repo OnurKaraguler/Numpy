{
 "cells": [
  {
   "cell_type": "code",
   "execution_count": 1,
   "metadata": {},
   "outputs": [],
   "source": [
    "import numpy as np"
   ]
  },
  {
   "cell_type": "markdown",
   "metadata": {},
   "source": [
    "1) Sinemaya giriş ücreti öğrenciler için 5 TL, olmayanlar için 10 TL dir. 100 kişi için 700 TL toplandığına göre öğrenci sayısı kaçtır. (x1 + x2 = 100, 5x1 + 10x2 = 700)"
   ]
  },
  {
   "cell_type": "code",
   "execution_count": 4,
   "metadata": {},
   "outputs": [
    {
     "name": "stdout",
     "output_type": "stream",
     "text": [
      "[[ 1  1]\n",
      " [ 5 10]]\n",
      "=================\n",
      "[100 700]\n",
      "=================\n",
      "[60. 40.]\n"
     ]
    }
   ],
   "source": [
    "A = np.array([[1,1], [5,10]])    # katsayılar yazılır\n",
    "print (A)\n",
    "print('=================')       # katsayılara ait sonuçlar\n",
    "B = np.array([100,700])\n",
    "print(B)\n",
    "print('=================')\n",
    "x = np.linalg.solve(A,B)         # X1 ve X2\n",
    "print(x)"
   ]
  },
  {
   "cell_type": "markdown",
   "metadata": {},
   "source": [
    "2) Tek boyutlu ve çift boyutlu ND Arrayler için skaler çarpım örnekleri gösteriniz"
   ]
  },
  {
   "cell_type": "code",
   "execution_count": 6,
   "metadata": {},
   "outputs": [
    {
     "name": "stdout",
     "output_type": "stream",
     "text": [
      "[2 4 2 4 2 4]\n",
      "[3 1 3 4 4 3]\n",
      "=================\n",
      "52\n"
     ]
    }
   ],
   "source": [
    "x = np.random.randint(1,5,6)\n",
    "print(x)\n",
    "y = np.random.randint(1,5,6)\n",
    "print(y)\n",
    "print('=================')\n",
    "print(np.dot(x,y))      # (3*3 + 3*2 + 3*4 ... = 45)"
   ]
  },
  {
   "cell_type": "code",
   "execution_count": 8,
   "metadata": {},
   "outputs": [
    {
     "name": "stdout",
     "output_type": "stream",
     "text": [
      "[[4 2]\n",
      " [1 2]\n",
      " [2 4]]\n",
      "[[3 1 1]\n",
      " [4 1 3]]\n",
      "=================\n",
      "[[20  6 10]\n",
      " [11  3  7]\n",
      " [22  6 14]]\n"
     ]
    }
   ],
   "source": [
    "x = np.random.randint(1,5,6).reshape(3,2)\n",
    "print(x)\n",
    "y = np.random.randint(1,5,6).reshape(2,3)\n",
    "print(y)\n",
    "print('=================')\n",
    "print(np.dot(x,y))      # (2*1 + 3*3 = 11) , (2*3 + 3*3 = 15) , (2*2 + 3*2 = 10) .....)"
   ]
  },
  {
   "cell_type": "code",
   "execution_count": null,
   "metadata": {},
   "outputs": [],
   "source": []
  }
 ],
 "metadata": {
  "kernelspec": {
   "display_name": "Python 3.7.9 64-bit ('tensorflow': conda)",
   "language": "python",
   "name": "python37964bittensorflowconda91f07e4df9ed4eceb230f9e016055381"
  },
  "language_info": {
   "codemirror_mode": {
    "name": "ipython",
    "version": 3
   },
   "file_extension": ".py",
   "mimetype": "text/x-python",
   "name": "python",
   "nbconvert_exporter": "python",
   "pygments_lexer": "ipython3",
   "version": "3.7.9"
  }
 },
 "nbformat": 4,
 "nbformat_minor": 4
}

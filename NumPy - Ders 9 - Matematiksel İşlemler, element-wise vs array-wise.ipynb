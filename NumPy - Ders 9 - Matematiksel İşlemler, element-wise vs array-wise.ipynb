{
 "cells": [
  {
   "cell_type": "code",
   "execution_count": 1,
   "metadata": {},
   "outputs": [],
   "source": [
    "import numpy as np"
   ]
  },
  {
   "cell_type": "markdown",
   "metadata": {},
   "source": [
    "element - wise, array - wise"
   ]
  },
  {
   "cell_type": "code",
   "execution_count": 2,
   "metadata": {},
   "outputs": [
    {
     "name": "stdout",
     "output_type": "stream",
     "text": [
      "[9 6 7 7 7]\n",
      "[8 2 8 7 5]\n"
     ]
    }
   ],
   "source": [
    "x = np.random.randint(1,10, size=(5,))\n",
    "print(x)\n",
    "y = np.random.randint(1,10, size=(5,))\n",
    "print(y)"
   ]
  },
  {
   "cell_type": "code",
   "execution_count": 3,
   "metadata": {},
   "outputs": [
    {
     "name": "stdout",
     "output_type": "stream",
     "text": [
      "[17  8 15 14 12]\n",
      "[17  8 15 14 12]\n"
     ]
    }
   ],
   "source": [
    "print(x + y)\n",
    "print(np.add(x,y))"
   ]
  },
  {
   "cell_type": "code",
   "execution_count": 6,
   "metadata": {},
   "outputs": [
    {
     "name": "stdout",
     "output_type": "stream",
     "text": [
      "[ 1  4 -1  0  2]\n",
      "[ 1  4 -1  0  2]\n"
     ]
    }
   ],
   "source": [
    "print(x - y)\n",
    "print(np.subtract(x,y))"
   ]
  },
  {
   "cell_type": "code",
   "execution_count": 4,
   "metadata": {},
   "outputs": [
    {
     "name": "stdout",
     "output_type": "stream",
     "text": [
      "[72 12 56 49 35]\n",
      "[72 12 56 49 35]\n"
     ]
    }
   ],
   "source": [
    "print(x * y)\n",
    "print(np.multiply(x,y))"
   ]
  },
  {
   "cell_type": "code",
   "execution_count": 5,
   "metadata": {},
   "outputs": [
    {
     "name": "stdout",
     "output_type": "stream",
     "text": [
      "[1.125 3.    0.875 1.    1.4  ]\n",
      "[1.125 3.    0.875 1.    1.4  ]\n"
     ]
    }
   ],
   "source": [
    "print(x / y)\n",
    "print(np.divide(x,y))"
   ]
  },
  {
   "cell_type": "code",
   "execution_count": 7,
   "metadata": {},
   "outputs": [
    {
     "name": "stdout",
     "output_type": "stream",
     "text": [
      "[12  9 10 10 10]\n",
      "[6 3 4 4 4]\n",
      "[27 18 21 21 21]\n",
      "[3.         2.         2.33333333 2.33333333 2.33333333]\n"
     ]
    }
   ],
   "source": [
    "print(x + 3)\n",
    "print(x - 3)\n",
    "print(x * 3)\n",
    "print(x / 3)"
   ]
  },
  {
   "cell_type": "code",
   "execution_count": 9,
   "metadata": {},
   "outputs": [
    {
     "name": "stdout",
     "output_type": "stream",
     "text": [
      "[False False False  True False]\n",
      "False\n"
     ]
    }
   ],
   "source": [
    "print(x == y)\n",
    "print(np.array_equal(x,y))"
   ]
  },
  {
   "cell_type": "code",
   "execution_count": 13,
   "metadata": {},
   "outputs": [
    {
     "name": "stdout",
     "output_type": "stream",
     "text": [
      "[3.         2.44948974 2.64575131 2.64575131 2.64575131]\n",
      "[729 216 343 343 343]\n",
      "[8103.08392758  403.42879349 1096.63315843 1096.63315843 1096.63315843]\n"
     ]
    }
   ],
   "source": [
    "print(np.sqrt(x))\n",
    "print(np.power(x,3))\n",
    "print(np.exp(x))"
   ]
  },
  {
   "cell_type": "code",
   "execution_count": 16,
   "metadata": {},
   "outputs": [
    {
     "name": "stdout",
     "output_type": "stream",
     "text": [
      "[[6 9 1]\n",
      " [5 6 3]\n",
      " [3 3 4]]\n",
      "40\n",
      "[14 18  8]\n",
      "[16 14 10]\n",
      "1\n",
      "9\n",
      "2\n",
      "1\n"
     ]
    }
   ],
   "source": [
    "x = np.random.randint(1,10, size=(9,)).reshape(3,3)\n",
    "print(x)\n",
    "print(np.sum(x))\n",
    "print(x.sum(axis=0))\n",
    "print(x.sum(axis=1))\n",
    "print(x.min())\n",
    "print(x.max())\n",
    "print(x.argmin())   # en küçük elemanın index sırası\n",
    "print(x.argmax())   # en büyük elemanın index sırası"
   ]
  },
  {
   "cell_type": "code",
   "execution_count": null,
   "metadata": {},
   "outputs": [],
   "source": []
  }
 ],
 "metadata": {
  "kernelspec": {
   "display_name": "Python 3.7.9 64-bit ('tensorflow': conda)",
   "language": "python",
   "name": "python37964bittensorflowconda91f07e4df9ed4eceb230f9e016055381"
  },
  "language_info": {
   "codemirror_mode": {
    "name": "ipython",
    "version": 3
   },
   "file_extension": ".py",
   "mimetype": "text/x-python",
   "name": "python",
   "nbconvert_exporter": "python",
   "pygments_lexer": "ipython3",
   "version": "3.7.9"
  }
 },
 "nbformat": 4,
 "nbformat_minor": 4
}

{
 "cells": [
  {
   "cell_type": "code",
   "execution_count": 1,
   "metadata": {},
   "outputs": [],
   "source": [
    "import numpy as np"
   ]
  },
  {
   "cell_type": "markdown",
   "metadata": {},
   "source": [
    "<h1 style=\"color:red;\">np.intersect1d</h1>"
   ]
  },
  {
   "cell_type": "code",
   "execution_count": 2,
   "metadata": {},
   "outputs": [
    {
     "name": "stdout",
     "output_type": "stream",
     "text": [
      "[3 6]\n"
     ]
    }
   ],
   "source": [
    "x = np.array([2,5,3,6,9])\n",
    "y = np.array([6,1,8,7,3])\n",
    "\n",
    "print(np.intersect1d(x,y))"
   ]
  },
  {
   "cell_type": "markdown",
   "metadata": {},
   "source": [
    "<h1 style=\"color:red;\">np.setdiff1d</h1>"
   ]
  },
  {
   "cell_type": "code",
   "execution_count": 4,
   "metadata": {},
   "outputs": [
    {
     "name": "stdout",
     "output_type": "stream",
     "text": [
      "[2 5 9]\n",
      "[1 7 8]\n"
     ]
    }
   ],
   "source": [
    "print(np.setdiff1d(x,y))\n",
    "print(np.setdiff1d(y,x))"
   ]
  },
  {
   "cell_type": "markdown",
   "metadata": {},
   "source": [
    "<h1 style=\"color:red;\">np.union1d</h1>"
   ]
  },
  {
   "cell_type": "code",
   "execution_count": 6,
   "metadata": {},
   "outputs": [
    {
     "name": "stdout",
     "output_type": "stream",
     "text": [
      "[1 2 3 5 6 7 8 9]\n"
     ]
    }
   ],
   "source": [
    "print(np.union1d(x,y))"
   ]
  },
  {
   "cell_type": "markdown",
   "metadata": {},
   "source": [
    "<h1 style=\"color:red;\">np.in1d</h1>"
   ]
  },
  {
   "cell_type": "code",
   "execution_count": 7,
   "metadata": {},
   "outputs": [
    {
     "name": "stdout",
     "output_type": "stream",
     "text": [
      "[False False  True  True False]\n"
     ]
    }
   ],
   "source": [
    "print(np.in1d(x,y))"
   ]
  },
  {
   "cell_type": "markdown",
   "metadata": {},
   "source": [
    "<h1 style=\"color:red;\">np.unique</h1>"
   ]
  },
  {
   "cell_type": "code",
   "execution_count": 10,
   "metadata": {},
   "outputs": [
    {
     "name": "stdout",
     "output_type": "stream",
     "text": [
      "[0 2 3 5 6 9]\n"
     ]
    }
   ],
   "source": [
    "x = np.array([2,5,3,6,9,3,6,5,0])\n",
    "print(np.unique(x))"
   ]
  },
  {
   "cell_type": "markdown",
   "metadata": {},
   "source": [
    "<h1 style=\"color:red;\">np.sort</h1>"
   ]
  },
  {
   "cell_type": "code",
   "execution_count": 17,
   "metadata": {},
   "outputs": [
    {
     "name": "stdout",
     "output_type": "stream",
     "text": [
      "[6 3 7 7 3 1 6 3 3 8]\n",
      "[1 3 3 3 3 6 6 7 7 8]\n",
      "[6 3 7 7 3 1 6 3 3 8]\n",
      "=======================\n",
      "[2 1 9 9 1 5 6 1 8 7]\n",
      "[1 1 1 2 5 6 7 8 9 9]\n"
     ]
    }
   ],
   "source": [
    "x = np.random.randint(1,10,size=(10,))\n",
    "print(x)\n",
    "print(np.sort(x))  # orginal sıralanmaz\n",
    "print(x)\n",
    "print(\"=======================\")\n",
    "y = np.random.randint(1,10,size=(10,))\n",
    "print(y)\n",
    "y.sort()    # method olarak olduğunda orginali de sıralar\n",
    "print(y)"
   ]
  },
  {
   "cell_type": "code",
   "execution_count": 20,
   "metadata": {},
   "outputs": [
    {
     "name": "stdout",
     "output_type": "stream",
     "text": [
      "[[7 9 3 6 1]\n",
      " [6 6 4 7 6]\n",
      " [9 1 3 1 1]\n",
      " [8 6 9 5 2]\n",
      " [7 5 3 3 1]]\n",
      "=======================\n",
      "[[6 1 3 1 1]\n",
      " [7 5 3 3 1]\n",
      " [7 6 3 5 1]\n",
      " [8 6 4 6 2]\n",
      " [9 9 9 7 6]]\n",
      "=======================\n",
      "[[1 3 6 7 9]\n",
      " [4 6 6 6 7]\n",
      " [1 1 1 3 9]\n",
      " [2 5 6 8 9]\n",
      " [1 3 3 5 7]]\n"
     ]
    }
   ],
   "source": [
    "x = np.random.randint(1,10, size=(5,5))\n",
    "print(x)\n",
    "print(\"=======================\")\n",
    "print(np.sort(x, axis=0))   # axis=0 sürunlara göre \n",
    "print(\"=======================\")\n",
    "print(np.sort(x, axis=1))   # axis=0 satırlara göre "
   ]
  },
  {
   "cell_type": "code",
   "execution_count": null,
   "metadata": {},
   "outputs": [],
   "source": []
  },
  {
   "cell_type": "code",
   "execution_count": null,
   "metadata": {},
   "outputs": [],
   "source": []
  },
  {
   "cell_type": "code",
   "execution_count": null,
   "metadata": {},
   "outputs": [],
   "source": []
  }
 ],
 "metadata": {
  "kernelspec": {
   "display_name": "Python 3.7.9 64-bit ('tensorflow': conda)",
   "language": "python",
   "name": "python37964bittensorflowconda91f07e4df9ed4eceb230f9e016055381"
  },
  "language_info": {
   "codemirror_mode": {
    "name": "ipython",
    "version": 3
   },
   "file_extension": ".py",
   "mimetype": "text/x-python",
   "name": "python",
   "nbconvert_exporter": "python",
   "pygments_lexer": "ipython3",
   "version": "3.7.9"
  }
 },
 "nbformat": 4,
 "nbformat_minor": 4
}

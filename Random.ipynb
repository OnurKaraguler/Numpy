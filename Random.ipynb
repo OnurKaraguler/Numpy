{
 "cells": [
  {
   "cell_type": "code",
   "execution_count": 1,
   "metadata": {},
   "outputs": [],
   "source": [
    "import numpy as np"
   ]
  },
  {
   "cell_type": "code",
   "execution_count": 4,
   "metadata": {},
   "outputs": [
    {
     "data": {
      "text/plain": [
       "array([[0.80759292, 0.64178547, 0.12310785],\n",
       "       [0.95821196, 0.69756365, 0.69662325],\n",
       "       [0.34048172, 0.41716776, 0.89720927],\n",
       "       [0.95721022, 0.87188431, 0.5912698 ],\n",
       "       [0.05273979, 0.0382836 , 0.58068224]])"
      ]
     },
     "execution_count": 4,
     "metadata": {},
     "output_type": "execute_result"
    }
   ],
   "source": [
    "random = np.random.rand(5,3)\n",
    "#np.random.shuffle(random[:,0])\n",
    "random"
   ]
  },
  {
   "cell_type": "code",
   "execution_count": 5,
   "metadata": {},
   "outputs": [
    {
     "data": {
      "text/plain": [
       "array([[0.80759292, 0.64178547, 0.12310785],\n",
       "       [0.95821196, 0.69756365, 0.69662325],\n",
       "       [0.95721022, 0.41716776, 0.89720927],\n",
       "       [0.05273979, 0.87188431, 0.5912698 ],\n",
       "       [0.34048172, 0.0382836 , 0.58068224]])"
      ]
     },
     "execution_count": 5,
     "metadata": {},
     "output_type": "execute_result"
    }
   ],
   "source": [
    "np.random.shuffle(random[:,0])\n",
    "random"
   ]
  },
  {
   "cell_type": "code",
   "execution_count": 6,
   "metadata": {},
   "outputs": [
    {
     "data": {
      "text/plain": [
       "array([[0.80759292, 0.64178547, 0.12310785],\n",
       "       [0.95821196, 0.69756365, 0.69662325],\n",
       "       [0.34048172, 0.0382836 , 0.58068224],\n",
       "       [0.05273979, 0.87188431, 0.5912698 ],\n",
       "       [0.95721022, 0.41716776, 0.89720927]])"
      ]
     },
     "execution_count": 6,
     "metadata": {},
     "output_type": "execute_result"
    }
   ],
   "source": [
    "np.random.shuffle(random)\n",
    "random"
   ]
  },
  {
   "cell_type": "code",
   "execution_count": 9,
   "metadata": {},
   "outputs": [
    {
     "data": {
      "text/plain": [
       "array([[0.80759292, 0.64178547, 0.12310785],\n",
       "       [0.95821196, 0.69756365, 0.69662325],\n",
       "       [0.34048172, 0.0382836 , 0.58068224],\n",
       "       [0.05273979, 0.87188431, 0.5912698 ],\n",
       "       [0.95721022, 0.41716776, 0.89720927]])"
      ]
     },
     "execution_count": 9,
     "metadata": {},
     "output_type": "execute_result"
    }
   ],
   "source": [
    "np.random.permutation(random[:,0])\n",
    "random"
   ]
  },
  {
   "cell_type": "code",
   "execution_count": 10,
   "metadata": {},
   "outputs": [
    {
     "data": {
      "text/plain": [
       "array([[70.438739  , 39.93348936, 41.69169265, 64.3831843 ],\n",
       "       [37.45391071, 45.89528222, 63.19698122, 41.76497811],\n",
       "       [55.72533995, 38.16822628, 36.94576561, 33.56670309]])"
      ]
     },
     "execution_count": 10,
     "metadata": {},
     "output_type": "execute_result"
    }
   ],
   "source": [
    "np.random.normal(50, 15, (3, 4))"
   ]
  },
  {
   "cell_type": "code",
   "execution_count": null,
   "metadata": {},
   "outputs": [],
   "source": []
  }
 ],
 "metadata": {
  "kernelspec": {
   "display_name": "Python 3",
   "language": "python",
   "name": "python3"
  },
  "language_info": {
   "codemirror_mode": {
    "name": "ipython",
    "version": 3
   },
   "file_extension": ".py",
   "mimetype": "text/x-python",
   "name": "python",
   "nbconvert_exporter": "python",
   "pygments_lexer": "ipython3",
   "version": "3.7.6"
  }
 },
 "nbformat": 4,
 "nbformat_minor": 4
}

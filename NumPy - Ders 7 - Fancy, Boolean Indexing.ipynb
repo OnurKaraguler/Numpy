{
 "cells": [
  {
   "cell_type": "code",
   "execution_count": 1,
   "metadata": {},
   "outputs": [],
   "source": [
    "import numpy as np"
   ]
  },
  {
   "cell_type": "code",
   "execution_count": 4,
   "metadata": {},
   "outputs": [
    {
     "name": "stdout",
     "output_type": "stream",
     "text": [
      "[ 1.  3.  5.  7.  9. 11. 13. 15. 17. 19. 21.]\n",
      "[2 4 7]\n",
      "===========================\n",
      "[ 5.  9. 15.]\n"
     ]
    }
   ],
   "source": [
    "x = np.linspace(1,21,11)\n",
    "print(x)\n",
    "y = np.array([2,4,7])\n",
    "print(y)\n",
    "print('===========================')\n",
    "print(x[y])      # y ndarray e göre x deki elemanlar listelenir"
   ]
  },
  {
   "cell_type": "markdown",
   "metadata": {},
   "source": [
    "<h1 style=\"color:red;\">Fancy indexing</h1>"
   ]
  },
  {
   "cell_type": "code",
   "execution_count": 8,
   "metadata": {},
   "outputs": [
    {
     "name": "stdout",
     "output_type": "stream",
     "text": [
      "[[ 0  1  2  3  4]\n",
      " [ 5  6  7  8  9]\n",
      " [10 11 12 13 14]\n",
      " [15 16 17 18 19]\n",
      " [20 21 22 23 24]]\n",
      "[1 2]\n",
      "===========================\n",
      "[[ 5  6  7  8  9]\n",
      " [10 11 12 13 14]]\n",
      "===========================\n",
      "[[ 1  2]\n",
      " [ 6  7]\n",
      " [11 12]\n",
      " [16 17]\n",
      " [21 22]]\n",
      "===========================\n",
      "[[ 5  6  7  8  9]\n",
      " [10 11 12 13 14]]\n",
      "[[100   6   7   8   9]\n",
      " [ 10  11  12  13  14]]\n",
      "[[ 0  1  2  3  4]\n",
      " [ 5  6  7  8  9]\n",
      " [10 11 12 13 14]\n",
      " [15 16 17 18 19]\n",
      " [20 21 22 23 24]]\n",
      "===========================\n",
      "False\n"
     ]
    }
   ],
   "source": [
    "x = np.arange(25).reshape(5,5)\n",
    "print(x)\n",
    "y = np.array([1,2])\n",
    "print(y)\n",
    "print('===========================')\n",
    "print(x[y,:])\n",
    "print('===========================')\n",
    "print(x[:,y])\n",
    "print('===========================')\n",
    "z = x[y,:]\n",
    "print(z)\n",
    "z[0,0] = 100    # x deki eleman değişmedi (başka bir ndarray ile yapıldığından)\n",
    "print(z)\n",
    "print(x)\n",
    "print('===========================')\n",
    "print(np.shares_memory(x,z))"
   ]
  },
  {
   "cell_type": "markdown",
   "metadata": {},
   "source": [
    "<h1 style=\"color:red;\">Boolean indexing</h1>"
   ]
  },
  {
   "cell_type": "code",
   "execution_count": 10,
   "metadata": {},
   "outputs": [
    {
     "name": "stdout",
     "output_type": "stream",
     "text": [
      "[0 1 2 3 4 5 6 7 8 9]\n"
     ]
    }
   ],
   "source": [
    "x = np.arange(10)\n",
    "print(x)"
   ]
  },
  {
   "cell_type": "code",
   "execution_count": 11,
   "metadata": {},
   "outputs": [
    {
     "name": "stdout",
     "output_type": "stream",
     "text": [
      "[0 2 4 6 8]\n"
     ]
    }
   ],
   "source": [
    "print(x[(x % 2 == 0)])"
   ]
  },
  {
   "cell_type": "code",
   "execution_count": 12,
   "metadata": {},
   "outputs": [
    {
     "name": "stdout",
     "output_type": "stream",
     "text": [
      "False\n"
     ]
    }
   ],
   "source": [
    "z = x[(x % 2 == 0)]\n",
    "print(np.shares_memory(x,z))"
   ]
  },
  {
   "cell_type": "code",
   "execution_count": 20,
   "metadata": {},
   "outputs": [
    {
     "name": "stdout",
     "output_type": "stream",
     "text": [
      "[2 4 6 8 1 5 3 6 4 3]\n",
      "[4 2 0 3 3 9 9 8 4 2]\n",
      "[False  True  True  True False False False False False  True]\n",
      "<class 'numpy.ndarray'>\n",
      "bool\n",
      "[4 6 8 3]\n",
      "False\n",
      "True\n"
     ]
    }
   ],
   "source": [
    "x = np.random.randint(10, size=10)\n",
    "y = np.random.randint(10, size=10)\n",
    "\n",
    "print(x)\n",
    "print(y)\n",
    "z = x>y\n",
    "print(z)\n",
    "print(type(z))\n",
    "print((z).dtype)\n",
    "print(x[z])\n",
    "print(np.all(x>y))\n",
    "print(np.any(x>y))"
   ]
  },
  {
   "cell_type": "code",
   "execution_count": 22,
   "metadata": {},
   "outputs": [
    {
     "name": "stdout",
     "output_type": "stream",
     "text": [
      "[ 1.  3.  5.  7.  9. 11. 13. 15. 17. 19. 21.]\n",
      "[False  True False False  True False False  True False False  True]\n",
      "<class 'numpy.ndarray'>\n",
      "[ 3.  9. 15. 21.]\n",
      "[ 1. -3.  5.  7. -3. 11. 13. -3. 17. 19. -3.]\n"
     ]
    }
   ],
   "source": [
    "x = np.linspace(1,21,11)\n",
    "print(x)\n",
    "mask = (x % 3 == 0)\n",
    "print(mask)\n",
    "print(type(mask))\n",
    "print(x[mask])     # koşula uyan elemanları gösterir\n",
    "x[mask] = -3     # koşula uyan elemanları -3 ile değiştirilir\n",
    "print(x)"
   ]
  },
  {
   "cell_type": "code",
   "execution_count": null,
   "metadata": {},
   "outputs": [],
   "source": []
  }
 ],
 "metadata": {
  "kernelspec": {
   "display_name": "Python 3.7.9 64-bit ('tensorflow': conda)",
   "language": "python",
   "name": "python37964bittensorflowconda91f07e4df9ed4eceb230f9e016055381"
  },
  "language_info": {
   "codemirror_mode": {
    "name": "ipython",
    "version": 3
   },
   "file_extension": ".py",
   "mimetype": "text/x-python",
   "name": "python",
   "nbconvert_exporter": "python",
   "pygments_lexer": "ipython3",
   "version": "3.7.9"
  }
 },
 "nbformat": 4,
 "nbformat_minor": 4
}
